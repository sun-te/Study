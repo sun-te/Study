{
 "cells": [
  {
   "cell_type": "markdown",
   "metadata": {},
   "source": [
    "# 各种排序的实现和复杂度分析\n",
    "https://blog.csdn.net/yushiyi6453/article/details/76407640\n",
    "### 比较\n",
    "https://en.wikipedia.org/wiki/Sorting_algorithm#Bubble_sort"
   ]
  },
  {
   "cell_type": "code",
   "execution_count": 3,
   "metadata": {},
   "outputs": [],
   "source": [
    "import numpy as np"
   ]
  },
  {
   "cell_type": "code",
   "execution_count": 4,
   "metadata": {},
   "outputs": [],
   "source": [
    "def check(data):\n",
    "    for i in range(len(data)-1):\n",
    "        if data[i] > data[i+1]:\n",
    "            return False\n",
    "    return True"
   ]
  },
  {
   "cell_type": "code",
   "execution_count": 59,
   "metadata": {},
   "outputs": [],
   "source": [
    "class Sort():\n",
    "    def __init__(self):\n",
    "        return\n",
    "    def insertion_sort(self, data):\n",
    "        \"\"\"\n",
    "        插排\n",
    "        \"\"\"\n",
    "        n = len(data)\n",
    "        if n <= 1:\n",
    "            return data\n",
    "        for i in range(1,n):\n",
    "            index = i\n",
    "            for j in range(i-1, -1, -1):\n",
    "                if data[index] <= data[j]:        \n",
    "                    data[index], data[j] = data[j], data[index]\n",
    "                    index -= 1\n",
    "        return data\n",
    "    \n",
    "    def bubble_sort(self, data):\n",
    "        \"\"\"\n",
    "        冒泡排序\n",
    "        \n",
    "        \"\"\"\n",
    "        n = len(data)\n",
    "        if n <= 1:\n",
    "            return data\n",
    "        for i in range(n-1):\n",
    "            for j in range(n-1-i):\n",
    "                if data[j] > data[j+1]:\n",
    "                    data[j], data[j+1] = data[j+1], data[j]\n",
    "        return data\n",
    "    def selection_sort(self, data):\n",
    "        \"\"\"\n",
    "        选择排序\n",
    "        \"\"\"\n",
    "        n = len(data)\n",
    "        if n <= 1:\n",
    "            return data\n",
    "        for i in range(n):\n",
    "            min_val = data[i]\n",
    "            min_index = i\n",
    "            for j in range(i+1, n):\n",
    "                if data[j]<min_index:\n",
    "                    min_val = data[j]\n",
    "                    min_index = j\n",
    "            data[min_index], data[i] = data[i], data[min_index]\n",
    "        return data\n",
    "    \n",
    "    def merge_sort(self, data):\n",
    "        \"\"\"归并排序\"\"\"\n",
    "        n = len(data)\n",
    "        if n <= 1:\n",
    "            return data\n",
    "        mid = n//2\n",
    "        left = self.merge_sort(data[:mid])\n",
    "        right = self.merge_sort(data[mid:])\n",
    "        il, ir = 0, 0\n",
    "        ll, lr = len(left), len(right)\n",
    "        ans = []\n",
    "        while (il<ll) and (ir<lr):\n",
    "            if (left[il] <= right[ir]):\n",
    "                ans.append(left[il])\n",
    "                il += 1\n",
    "            else:\n",
    "                ans.append(right[ir])\n",
    "                ir += 1\n",
    "        if il == ll:\n",
    "            ans = ans + list(right[ir:])\n",
    "        else:\n",
    "            ans = ans + list(left[il:])\n",
    "        return ans    \n",
    "    def heap_sort(self, data):\n",
    "        \"\"\"\n",
    "        堆排序\n",
    "        \"\"\"\n",
    "        n=len(data)\n",
    "        def max_heapify(data, i):\n",
    "            # heap维护，假设除了i其他的都已经是heap了，我们使用这个函数来让i回到正确位置\n",
    "            n = len(data)\n",
    "            left, right = 2*i + 1, 2*i + 2\n",
    "            largest = i\n",
    "            if left < n and (data[left] > data[largest]):\n",
    "                largest = left\n",
    "            if right < n and (data[right] > data[largest]):\n",
    "                largest = right\n",
    "            if largest == i:\n",
    "                return\n",
    "            else:\n",
    "                data[i], data[largest] = data[largest], data[i]\n",
    "                max_heapify(data, largest)\n",
    "        def build_heap(data):\n",
    "            mid = n//2\n",
    "            for i in range(mid, -1, -1):\n",
    "                max_heapify(data, i)\n",
    "            return data\n",
    "        # Build a maximum heap list\n",
    "        tmp = build_heap(data)\n",
    "        for i in range(n):\n",
    "            tmp[n-i-1], tmp[0] = tmp[0], tmp[n-1-i]\n",
    "            data[n-i-1] = tmp[n-i-1]\n",
    "            tmp = tmp[:-1]\n",
    "            max_heapify(tmp, 0)\n",
    "        return data\n",
    "    def quick_sort(self, data):\n",
    "        \"\"\"\n",
    "        快排\n",
    "        \"\"\"\n",
    "        def quick_sort_inside(data, left, right):\n",
    "            if left >= right:\n",
    "                return\n",
    "            else:\n",
    "                position = left - 1\n",
    "                val = data[right]\n",
    "                for i in range(left, right): # right is not included\n",
    "                    if data[i]<val:\n",
    "                        position += 1\n",
    "                        data[i], data[position] = data[position], data[i]\n",
    "                data[right], data[position+1] = data[position+1], data[right]\n",
    "            quick_sort_inside(data, left, position)\n",
    "            quick_sort_inside(data, position+2, right)\n",
    "        quick_sort_inside(data, 0, len(data)-1)\n",
    "        return data\n",
    "    def count_sort(self, data):\n",
    "        \"\"\"\n",
    "        计数排序\n",
    "        \"\"\"\n",
    "        ans = [0] * len(data)\n",
    "        data_min = min(data)\n",
    "        data_max = max(data)\n",
    "        c = [0] * (data_max+1 - data_min)\n",
    "        for val in data:\n",
    "            c[val-data_min] += 1\n",
    "        for i in range(len(c)-1):\n",
    "            c[i+1] += c[i] \n",
    "        for i in range(len(data)):\n",
    "            index = data[i] - data_min\n",
    "            ans[c[index]-1] = data[i]\n",
    "            c[index] -= 1\n",
    "        return ans\n",
    "        "
   ]
  },
  {
   "cell_type": "code",
   "execution_count": 88,
   "metadata": {},
   "outputs": [],
   "source": [
    "sort_sol = Sort()\n",
    "data = np.random.randint(0, 10000000, 50000)\n",
    "# data = [2,5 ,6, 8, 9,6]"
   ]
  },
  {
   "cell_type": "code",
   "execution_count": 89,
   "metadata": {},
   "outputs": [
    {
     "name": "stdout",
     "output_type": "stream",
     "text": [
      "Wall time: 1.63 s\n"
     ]
    }
   ],
   "source": [
    "%%time\n",
    "count = np.array((sort_sol.count_sort(data)))"
   ]
  },
  {
   "cell_type": "code",
   "execution_count": 90,
   "metadata": {},
   "outputs": [
    {
     "name": "stdout",
     "output_type": "stream",
     "text": [
      "Wall time: 401 ms\n"
     ]
    }
   ],
   "source": [
    "%%time\n",
    "quick = list(sort_sol.quick_sort(data))"
   ]
  },
  {
   "cell_type": "code",
   "execution_count": 91,
   "metadata": {},
   "outputs": [
    {
     "name": "stdout",
     "output_type": "stream",
     "text": [
      "Wall time: 908 ms\n"
     ]
    }
   ],
   "source": [
    "%%time\n",
    "heap = np.array((sort_sol.heap_sort(data)))"
   ]
  },
  {
   "cell_type": "code",
   "execution_count": 92,
   "metadata": {},
   "outputs": [
    {
     "name": "stdout",
     "output_type": "stream",
     "text": [
      "Wall time: 200 ms\n"
     ]
    }
   ],
   "source": [
    "%%time\n",
    "merge = sort_sol.merge_sort(data)"
   ]
  },
  {
   "cell_type": "code",
   "execution_count": 10,
   "metadata": {},
   "outputs": [
    {
     "name": "stdout",
     "output_type": "stream",
     "text": [
      "Wall time: 2.95 s\n"
     ]
    }
   ],
   "source": [
    "%%time\n",
    "insertion = sort_sol.insertion_sort(data)"
   ]
  },
  {
   "cell_type": "code",
   "execution_count": 11,
   "metadata": {},
   "outputs": [
    {
     "name": "stdout",
     "output_type": "stream",
     "text": [
      "Wall time: 3.38 s\n"
     ]
    }
   ],
   "source": [
    "%%time\n",
    "bubble = sort_sol.bubble_sort(data)"
   ]
  },
  {
   "cell_type": "code",
   "execution_count": 24,
   "metadata": {},
   "outputs": [
    {
     "name": "stdout",
     "output_type": "stream",
     "text": [
      "Wall time: 2.91 s\n"
     ]
    }
   ],
   "source": [
    "%%time\n",
    "selection = sort_sol.selection_sort(data)"
   ]
  },
  {
   "cell_type": "code",
   "execution_count": 25,
   "metadata": {},
   "outputs": [
    {
     "data": {
      "text/plain": [
       "0"
      ]
     },
     "execution_count": 25,
     "metadata": {},
     "output_type": "execute_result"
    }
   ],
   "source": [
    "sum(abs(np.array(heap) - np.array(bubble)))"
   ]
  },
  {
   "cell_type": "markdown",
   "metadata": {},
   "source": [
    "### Note\n",
    "在堆排序（小根堆）的时候，每次总是将最小的元素移除，然后将最后的元素放到堆顶，再让其自我调整。这样一来，有很多比较将是被浪费的，因为被拿到堆顶的那个元素几乎肯定是很大的，而靠近堆顶的元素又几乎肯定是很小的，最后一个元素能留在堆顶的可能性微乎其微，最后一个元素很有可能最终再被移动到底部。在堆排序里面有大量这种近乎无效的比较。随着数据规模的增长，比较的开销最差情况应该在（线性*对数）级别，如果数据量是原来的10倍，那么用于比较的时间开销可能是原来的10log10倍。\n",
    "\n",
    "   堆排序的过程中，需要有效的随机存取。比较父节点和字节点的值大小的时候，虽然计算下标会很快完成，但是在大规模的数据中对数组指针寻址也需要一定的时间。而快速排序只需要将数组指针移动到相邻的区域即可。在堆排序中，会大量的随机存取数据；而在快速排序中，只会大量的顺序存取数据。随着数据规模的扩大，这方面的差距会明显增大。在这方面的时间开销来说，快速排序只会线性增长，而堆排序增加幅度很大，会远远大于线性。\n",
    "\n",
    "  在快速排序中，每次数据移动都意味着该数据距离它正确的位置越来越近，而在堆排序中，类似将堆尾部的数据移到堆顶这样的操作只会使相应的数据远离它正确的位置，后续必然有一些操作再将其移动，即“做了好多无用功”。\n"
   ]
  },
  {
   "cell_type": "code",
   "execution_count": null,
   "metadata": {},
   "outputs": [],
   "source": []
  }
 ],
 "metadata": {
  "kernelspec": {
   "display_name": "Python 3",
   "language": "python",
   "name": "python3"
  },
  "language_info": {
   "codemirror_mode": {
    "name": "ipython",
    "version": 3
   },
   "file_extension": ".py",
   "mimetype": "text/x-python",
   "name": "python",
   "nbconvert_exporter": "python",
   "pygments_lexer": "ipython3",
   "version": "3.7.1"
  }
 },
 "nbformat": 4,
 "nbformat_minor": 2
}
