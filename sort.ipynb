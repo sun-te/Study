{
 "cells": [
  {
   "cell_type": "markdown",
   "metadata": {},
   "source": [
    "# 各种排序的实现和复杂度分析\n",
    "https://blog.csdn.net/yushiyi6453/article/details/76407640\n",
    "### 比较\n",
    "https://en.wikipedia.org/wiki/Sorting_algorithm#Bubble_sort"
   ]
  },
  {
   "cell_type": "code",
   "execution_count": 3,
   "metadata": {},
   "outputs": [],
   "source": [
    "import numpy as np"
   ]
  },
  {
   "cell_type": "code",
   "execution_count": 132,
   "metadata": {},
   "outputs": [],
   "source": [
    "data = np.random.randint(0, 100000, 3000)\n",
    "#data = [1,5,2,3,4]"
   ]
  },
  {
   "cell_type": "code",
   "execution_count": 133,
   "metadata": {},
   "outputs": [],
   "source": [
    "class Sort():\n",
    "    def __init__(self):\n",
    "        return\n",
    "    def insertion_sort(self, data):\n",
    "        \"\"\"\n",
    "        插排\n",
    "        \"\"\"\n",
    "        n = len(data)\n",
    "        if n <= 1:\n",
    "            return data\n",
    "        for i in range(1,n):\n",
    "            index = i\n",
    "            for j in range(i-1, -1, -1):\n",
    "                if data[index] <= data[j]:        \n",
    "                    data[index], data[j] = data[j], data[index]\n",
    "                    index -= 1\n",
    "        return data\n",
    "    \n",
    "    def bubble_sort(self, data):\n",
    "        \"\"\"\n",
    "        冒泡排序\n",
    "        \n",
    "        \"\"\"\n",
    "        n = len(data)\n",
    "        if n <= 1:\n",
    "            return data\n",
    "        for i in range(n-1):\n",
    "            for j in range(n-1-i):\n",
    "                if data[j] > data[j+1]:\n",
    "                    data[j], data[j+1] = data[j+1], data[j]\n",
    "        return data\n",
    "    def selection_sort(self, data):\n",
    "        \"\"\"\n",
    "        选择排序\n",
    "        \"\"\"\n",
    "        n = len(data)\n",
    "        if n <= 1:\n",
    "            return data\n",
    "        for i in range(n):\n",
    "            min_val = data[i]\n",
    "            min_index = i\n",
    "            for j in range(i+1, n):\n",
    "                if data[j]<min_index:\n",
    "                    min_val = data[j]\n",
    "                    min_index = j\n",
    "            data[min_index], data[i] = data[i], data[min_index]\n",
    "        return data\n",
    "    \n",
    "    def merge_sort(self, data):\n",
    "        \"\"\"归并排序\"\"\"\n",
    "        n = len(data)\n",
    "        if n <= 1:\n",
    "            return data\n",
    "        mid = n//2\n",
    "        left = self.merge_sort(data[:mid])\n",
    "        right = self.merge_sort(data[mid:])\n",
    "        il, ir = 0, 0\n",
    "        ll, lr = len(left), len(right)\n",
    "        ans = []\n",
    "        while (il<ll) and (ir<lr):\n",
    "            if (left[il] <= right[ir]):\n",
    "                ans.append(left[il])\n",
    "                il += 1\n",
    "            else:\n",
    "                ans.append(right[ir])\n",
    "                ir += 1\n",
    "        if il == ll:\n",
    "            ans = ans + list(right[ir:])\n",
    "        else:\n",
    "            ans = ans + list(left[il:])\n",
    "        return ans    \n",
    "    def heap_sort(self, data):\n",
    "        "
   ]
  },
  {
   "cell_type": "code",
   "execution_count": 134,
   "metadata": {},
   "outputs": [],
   "source": [
    "sort_sol = Sort()"
   ]
  },
  {
   "cell_type": "code",
   "execution_count": 135,
   "metadata": {},
   "outputs": [
    {
     "name": "stdout",
     "output_type": "stream",
     "text": [
      "Wall time: 20 ms\n"
     ]
    }
   ],
   "source": [
    "%%time\n",
    "merge = sort_sol.merge_sort(data)"
   ]
  },
  {
   "cell_type": "code",
   "execution_count": 136,
   "metadata": {},
   "outputs": [
    {
     "name": "stdout",
     "output_type": "stream",
     "text": [
      "Wall time: 1.98 s\n"
     ]
    }
   ],
   "source": [
    "%%time\n",
    "insertion = sort_sol.insertion_sort(data)"
   ]
  },
  {
   "cell_type": "code",
   "execution_count": 137,
   "metadata": {},
   "outputs": [
    {
     "name": "stdout",
     "output_type": "stream",
     "text": [
      "Wall time: 1.21 s\n"
     ]
    }
   ],
   "source": [
    "%%time\n",
    "bubble = sort_sol.bubble_sort(data)"
   ]
  },
  {
   "cell_type": "code",
   "execution_count": 138,
   "metadata": {},
   "outputs": [
    {
     "name": "stdout",
     "output_type": "stream",
     "text": [
      "Wall time: 1.12 s\n"
     ]
    }
   ],
   "source": [
    "%%time\n",
    "selection = sort_sol.selection_sort(data)"
   ]
  },
  {
   "cell_type": "code",
   "execution_count": 140,
   "metadata": {},
   "outputs": [
    {
     "data": {
      "text/plain": [
       "0"
      ]
     },
     "execution_count": 140,
     "metadata": {},
     "output_type": "execute_result"
    }
   ],
   "source": [
    "sum(abs(np.array(merge) - np.array(bubble)))"
   ]
  },
  {
   "cell_type": "markdown",
   "metadata": {},
   "source": [
    "### Note\n",
    "在堆排序（小根堆）的时候，每次总是将最小的元素移除，然后将最后的元素放到堆顶，再让其自我调整。这样一来，有很多比较将是被浪费的，因为被拿到堆顶的那个元素几乎肯定是很大的，而靠近堆顶的元素又几乎肯定是很小的，最后一个元素能留在堆顶的可能性微乎其微，最后一个元素很有可能最终再被移动到底部。在堆排序里面有大量这种近乎无效的比较。随着数据规模的增长，比较的开销最差情况应该在（线性*对数）级别，如果数据量是原来的10倍，那么用于比较的时间开销可能是原来的10log10倍。\n",
    "\n",
    "   堆排序的过程中，需要有效的随机存取。比较父节点和字节点的值大小的时候，虽然计算下标会很快完成，但是在大规模的数据中对数组指针寻址也需要一定的时间。而快速排序只需要将数组指针移动到相邻的区域即可。在堆排序中，会大量的随机存取数据；而在快速排序中，只会大量的顺序存取数据。随着数据规模的扩大，这方面的差距会明显增大。在这方面的时间开销来说，快速排序只会线性增长，而堆排序增加幅度很大，会远远大于线性。\n",
    "\n",
    "  在快速排序中，每次数据移动都意味着该数据距离它正确的位置越来越近，而在堆排序中，类似将堆尾部的数据移到堆顶这样的操作只会使相应的数据远离它正确的位置，后续必然有一些操作再将其移动，即“做了好多无用功”。\n"
   ]
  },
  {
   "cell_type": "code",
   "execution_count": null,
   "metadata": {},
   "outputs": [],
   "source": []
  }
 ],
 "metadata": {
  "kernelspec": {
   "display_name": "Python 3",
   "language": "python",
   "name": "python3"
  },
  "language_info": {
   "codemirror_mode": {
    "name": "ipython",
    "version": 3
   },
   "file_extension": ".py",
   "mimetype": "text/x-python",
   "name": "python",
   "nbconvert_exporter": "python",
   "pygments_lexer": "ipython3",
   "version": "3.7.1"
  }
 },
 "nbformat": 4,
 "nbformat_minor": 2
}
