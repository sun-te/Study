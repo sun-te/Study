{
 "cells": [
  {
   "cell_type": "markdown",
   "metadata": {},
   "source": [
    "# 各种排序的实现和复杂度分析\n",
    "https://blog.csdn.net/yushiyi6453/article/details/76407640\n",
    "### 比较\n",
    "https://en.wikipedia.org/wiki/Sorting_algorithm#Bubble_sort"
   ]
  },
  {
   "cell_type": "code",
   "execution_count": 1,
   "metadata": {},
   "outputs": [],
   "source": [
    "import numpy as np"
   ]
  },
  {
   "cell_type": "code",
   "execution_count": 12,
   "metadata": {},
   "outputs": [],
   "source": [
    "data = np.random.randint(0, 10000, 800)"
   ]
  },
  {
   "cell_type": "code",
   "execution_count": 13,
   "metadata": {},
   "outputs": [],
   "source": [
    "class Sort():\n",
    "    def __init__(self):\n",
    "        return\n",
    "    def insertion_sort(self, data):\n",
    "        \"\"\"\n",
    "        插排\n",
    "        \"\"\"\n",
    "        n = len(data)\n",
    "        if n <= 1:\n",
    "            return data\n",
    "        for i in range(1,n):\n",
    "            index = i\n",
    "            for j in range(i-1, -1, -1):\n",
    "                if data[index] <= data[j]:        \n",
    "                    data[index], data[j] = data[j], data[index]\n",
    "                    index -= 1\n",
    "        return data\n",
    "    \n",
    "    def bubble_sort(self, data):\n",
    "        \"\"\"\n",
    "        冒泡排序\n",
    "        \n",
    "        \"\"\"\n",
    "        n = len(data)\n",
    "        if n <= 1:\n",
    "            return data\n",
    "        for i in range(n-1):\n",
    "            for j in range(n-1-i):\n",
    "                if data[j] > data[j+1]:\n",
    "                    data[j], data[j+1] = data[j+1], data[j]\n",
    "        return data\n",
    "    def selection_sort(self, data):\n",
    "        \"\"\"\n",
    "        选择排序\n",
    "        \"\"\"\n",
    "        n = len(data)\n",
    "        if n <= 1:\n",
    "            return data\n",
    "        for i in range(n):\n",
    "            min_val = data[i]\n",
    "            min_index = i\n",
    "            for j in range(i+1, n):\n",
    "                if data[j]<min_index:\n",
    "                    min_val = data[j]\n",
    "                    min_index = j\n",
    "            data[min_index], data[i] = data[i], data[min_index]\n",
    "        return data"
   ]
  },
  {
   "cell_type": "code",
   "execution_count": 14,
   "metadata": {},
   "outputs": [],
   "source": [
    "sort_sol = Sort()"
   ]
  },
  {
   "cell_type": "code",
   "execution_count": 24,
   "metadata": {},
   "outputs": [
    {
     "name": "stdout",
     "output_type": "stream",
     "text": [
      "Wall time: 68.7 ms\n"
     ]
    }
   ],
   "source": [
    "%%time\n",
    "res = sort_sol.insertion_sort(data)"
   ]
  },
  {
   "cell_type": "code",
   "execution_count": 25,
   "metadata": {},
   "outputs": [
    {
     "name": "stdout",
     "output_type": "stream",
     "text": [
      "Wall time: 87.7 ms\n"
     ]
    }
   ],
   "source": [
    "%%time\n",
    "res = sort_sol.bubble_sort(data)"
   ]
  },
  {
   "cell_type": "code",
   "execution_count": 26,
   "metadata": {},
   "outputs": [
    {
     "name": "stdout",
     "output_type": "stream",
     "text": [
      "Wall time: 84.7 ms\n"
     ]
    }
   ],
   "source": [
    "%%time\n",
    "res = sort_sol.selection_sort(data)"
   ]
  },
  {
   "cell_type": "code",
   "execution_count": null,
   "metadata": {},
   "outputs": [],
   "source": []
  }
 ],
 "metadata": {
  "kernelspec": {
   "display_name": "Python 3",
   "language": "python",
   "name": "python3"
  },
  "language_info": {
   "codemirror_mode": {
    "name": "ipython",
    "version": 3
   },
   "file_extension": ".py",
   "mimetype": "text/x-python",
   "name": "python",
   "nbconvert_exporter": "python",
   "pygments_lexer": "ipython3",
   "version": "3.6.7"
  }
 },
 "nbformat": 4,
 "nbformat_minor": 2
}
