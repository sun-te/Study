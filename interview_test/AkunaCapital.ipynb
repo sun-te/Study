{
 "cells": [
  {
   "cell_type": "code",
   "execution_count": 1,
   "metadata": {},
   "outputs": [],
   "source": [
    "import matplotlib.pyplot as plt"
   ]
  },
  {
   "cell_type": "markdown",
   "metadata": {},
   "source": [
    "## 1\n",
    "修筑水坝，水坝墙壁位置确定，水坝高度确定，均作为输入给出\n",
    "\n",
    "我们想在中间加注泥土，但是泥土的高度不能与相邻位置墙或者泥土的高度相差超过1\n",
    "\n",
    "问：在这样的墙体之间，最高能有多高的土墙？"
   ]
  },
  {
   "cell_type": "code",
   "execution_count": 3,
   "metadata": {},
   "outputs": [],
   "source": [
    "# 例1\n",
    "wallPosition = [1,2,4,7]\n",
    "wallHeight = [5,6,8,11]"
   ]
  },
  {
   "cell_type": "code",
   "execution_count": 6,
   "metadata": {},
   "outputs": [],
   "source": [
    "# 例2\n",
    "wallPosition = [1,3,7]\n",
    "wallHeight = [4,3,3]"
   ]
  },
  {
   "cell_type": "code",
   "execution_count": 7,
   "metadata": {},
   "outputs": [],
   "source": [
    "def maxHeight(wallPosition=wallPosition, wallHeight=wallHeight):\n",
    "    n = len(wallPosition)\n",
    "    ans = 0\n",
    "    mudwall = []\n",
    "    position = []\n",
    "    for i in range(n-1):\n",
    "        Dgap = wallPosition[i+1] - wallPosition[i]\n",
    "        Hgap = abs(wallHeight[i+1] - wallHeight[i])\n",
    "        if Dgap < Hgap:\n",
    "            continue\n",
    "        else:\n",
    "            h1, h2 = wallHeight[i], wallHeight[i+1]\n",
    "            for p in range(1, Dgap):\n",
    "                position.append(wallPosition[i] + p)\n",
    "                mudwall.append(min(h2 + Dgap-p, h1 + p))\n",
    "                ans = max(ans, min(h2 + Dgap-p, h1 + p))\n",
    "    plt.bar(wallPosition, wallHeight, color= 'red')\n",
    "    plt.bar(position, mudwall, color= 'blue')\n",
    "    return ans"
   ]
  },
  {
   "cell_type": "code",
   "execution_count": 9,
   "metadata": {},
   "outputs": [
    {
     "data": {
      "text/plain": [
       "5"
      ]
     },
     "execution_count": 9,
     "metadata": {},
     "output_type": "execute_result"
    },
    {
     "data": {
      "image/png": "[encoded data removed]",
      "text/plain": [
       "<Figure size 432x288 with 1 Axes>"
      ]
     },
     "metadata": {
      "needs_background": "light"
     },
     "output_type": "display_data"
    }
   ],
   "source": [
    "maxHeight()\n",
    "# 红色是墙，蓝色是土堆"
   ]
  },
  {
   "cell_type": "markdown",
   "metadata": {},
   "source": [
    "## 2\n",
    "连接计算机，计算机点群可以通过cable链接，计算机之间只要有路能通就可以算是联通了，现在有一些已经（并不是全部互相）连接的计算机，目前只能通过改变计算机之间的链接来实现全部的计算机都能连起来，也就是拆了东墙补西墙，那么最少需要多少次移动能让这些计算机全部连接起来？如果不存在这样的方案，那么返回-1"
   ]
  },
  {
   "cell_type": "code",
   "execution_count": 10,
   "metadata": {},
   "outputs": [],
   "source": [
    "# 例1\n",
    "comp_nodes = 7\n",
    "comp_edges = 6 +1 \n",
    "c_from = [1,1,1, 2,2, 3 , 5]\n",
    "c_to = [2,3,4,3,4,4     , 6]"
   ]
  },
  {
   "cell_type": "code",
   "execution_count": 11,
   "metadata": {},
   "outputs": [],
   "source": [
    "# 例2\n",
    "comp_nodes = 4\n",
    "comp_edges = 3\n",
    "c_from = [1,1,3]\n",
    "c_to = [2,3,2]"
   ]
  },
  {
   "cell_type": "code",
   "execution_count": 13,
   "metadata": {},
   "outputs": [],
   "source": [
    "# 方法一： 找到所有的group，naive brute force\n",
    "def minMove(c_from, c_to, comp_edges, comp_nodes):\n",
    "    if comp_edges < comp_nodes - 1:\n",
    "        return -1\n",
    "    group_stack = [[set([c_from[0], c_to[0]]), 1]]\n",
    "    all_connected = set(c_from + c_to)\n",
    "    # 所有的孤点\n",
    "    lonely_pt = comp_nodes - len(all_connected)\n",
    "    def group(c_from, c_to):\n",
    "        # 构建groups\n",
    "        cur_group = 1\n",
    "        for i in range(1, comp_edges):\n",
    "            for g in group_stack: \n",
    "                if (c_from[i] in g[0] or c_to[i] in g[0]):\n",
    "                    g[0].add(c_from[i])\n",
    "                    g[0].add(c_to[i])\n",
    "                    g[1] += 1\n",
    "                else:\n",
    "                    group_stack.append([set([c_from[i],c_to[i]]), 1])\n",
    "        print(group_stack)\n",
    "        # 总共有多少个group\n",
    "        return len(group_stack)\n",
    "    \n",
    "    total_group = group(c_from, c_to) \n",
    " \n",
    "    return total_group - 1 + lonely_pt"
   ]
  },
  {
   "cell_type": "markdown",
   "metadata": {},
   "source": [
    "使用**查并集**的数据结构\n",
    "\n",
    "https://blog.csdn.net/qq_35116353/article/details/76022022"
   ]
  },
  {
   "cell_type": "code",
   "execution_count": 14,
   "metadata": {},
   "outputs": [],
   "source": [
    "def minOperation(c_from, c_to, comp_edges, comp_nodes):\n",
    "    if comp_edges < comp_nodes - 1: # not enough edges to connect all\n",
    "        return -1\n",
    "    nodes = [-1] * comp_nodes\n",
    "    index = range(comp_nodes)\n",
    "    for i in range(comp_edges):\n",
    "        root = c_from[i] - 1\n",
    "        child = c_to[i] - 1\n",
    "        while nodes[root] >= 0: # this is not a parent root\n",
    "            root = nodes[root]\n",
    "        nodes[root] += nodes[child]\n",
    "        nodes[child] = root\n",
    "    ops = -1 \n",
    "    print(nodes)\n",
    "    for r in nodes:\n",
    "        if r < 0:\n",
    "            ops += 1\n",
    "    return ops"
   ]
  },
  {
   "cell_type": "code",
   "execution_count": 15,
   "metadata": {},
   "outputs": [
    {
     "name": "stdout",
     "output_type": "stream",
     "text": [
      "[-3, 0, 0, -1]\n"
     ]
    },
    {
     "data": {
      "text/plain": [
       "1"
      ]
     },
     "execution_count": 15,
     "metadata": {},
     "output_type": "execute_result"
    }
   ],
   "source": [
    "minOperation(c_from, c_to, comp_edges, comp_nodes)"
   ]
  },
  {
   "cell_type": "code",
   "execution_count": null,
   "metadata": {},
   "outputs": [],
   "source": []
  }
 ],
 "metadata": {
  "kernelspec": {
   "display_name": "Python 3",
   "language": "python",
   "name": "python3"
  },
  "language_info": {
   "codemirror_mode": {
    "name": "ipython",
    "version": 3
   },
   "file_extension": ".py",
   "mimetype": "text/x-python",
   "name": "python",
   "nbconvert_exporter": "python",
   "pygments_lexer": "ipython3",
   "version": "3.7.1"
  }
 },
 "nbformat": 4,
 "nbformat_minor": 2
}
