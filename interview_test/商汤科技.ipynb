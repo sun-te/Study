{
 "cells": [
  {
   "cell_type": "markdown",
   "metadata": {},
   "source": [
    "面试题目取自mxz的off cycle，20200228"
   ]
  },
  {
   "cell_type": "markdown",
   "metadata": {},
   "source": [
    "- 从C++函数变量传递的类型，STL容器的vector和hashmap是如何实现的\n",
    "\n",
    "--------------------\n",
    "\n",
    "- 队列和栈的区别\n",
    "\n",
    "----------------------\n",
    "1、队列先进先出，栈先进后出。\n",
    "\n",
    "2、对插入和删除操作的\"限定\"不同。\n",
    "\n",
    "栈是限定只能在表的一端进行插入和删除操作的线性表。     \n",
    "\n",
    "队列是限定只能在表的一端进行插入和在另一端进行删除操作的线性表。  \n",
    "\n",
    "3、遍历数据速度不同。\n",
    "\n",
    "栈只能从头部取数据，也就最先放入的需要遍历整个栈最后才能取出来，而且在遍历数据的时候还得为数据开辟临时空间，保持数据在遍历前的一致性。\n",
    "\n",
    "队列则不同，它基于地址指针进行遍历，而且可以从头或尾部开始遍历，但不能同时遍历，无需开辟临时空间，因为在遍历的过程中不影像数据结构，速度要快的多\n",
    "\n",
    "------------------------------------\n",
    "- 装饰器是什么，闭包是什么\n",
    "\n",
    "*闭包（英语：Closure），又称词法闭包（Lexical Closure）或函数闭包（function closures），是引用了自由变量的函数。这个被引用的自由变量将和这个函数一同存在，即使已经离开了创造它的环境也不例外。*\n",
    "\n",
    "通过下面的代码我们可以看到，内部的函数引用了临时变量，这个临时变量就可以脱离于foo函数本身存在，这种现象称为闭包\n",
    "\n",
    "装饰器本质是一个python函数，他可以让其他函数再不需要做任何代码变动的前提下增加额外功能，装饰器的返回值也是一个函数对象。它经常用于有切面需求的场景，比如：插入日志、性能测试、事务处理、缓存、权限校验等场景。装饰器是解决这列问题的绝佳设计，有了装饰器，我们就可以抽流出大量与蛤属功能本身无关的雷同代码并继续使用。概括地将，装饰器的作用就是为了已经存在的对象太假额外的功能。"
   ]
  },
  {
   "cell_type": "code",
   "execution_count": 4,
   "metadata": {},
   "outputs": [],
   "source": [
    "#闭包\n",
    "def foo():\n",
    "    a = \"I am closure\"\n",
    "    print(a)\n",
    "    def clos():\n",
    "        print(a)\n",
    "    return clos"
   ]
  },
  {
   "cell_type": "code",
   "execution_count": 5,
   "metadata": {},
   "outputs": [
    {
     "name": "stdout",
     "output_type": "stream",
     "text": [
      "I am closure\n"
     ]
    }
   ],
   "source": [
    "tmp = foo()"
   ]
  },
  {
   "cell_type": "code",
   "execution_count": 7,
   "metadata": {},
   "outputs": [
    {
     "name": "stdout",
     "output_type": "stream",
     "text": [
      "I am closure\n"
     ]
    }
   ],
   "source": [
    "tmp()"
   ]
  },
  {
   "cell_type": "code",
   "execution_count": 24,
   "metadata": {
    "scrolled": true
   },
   "outputs": [
    {
     "name": "stdout",
     "output_type": "stream",
     "text": [
      "call test():\n",
      "args = I'm a param\n",
      "test param: I'm a param\n"
     ]
    }
   ],
   "source": [
    "# \n",
    "import functools\n",
    "def log(func):\n",
    "    @functools.wraps(func)\n",
    "    def wrapper(*args, **kwargs):\n",
    "        print('call %s():' % func.__name__)\n",
    "        print('args = {}'.format(*args))\n",
    "        return func(*args, **kwargs)\n",
    "    return wrapper\n",
    "#@ log用来把log传进去\n",
    "@log\n",
    "def test(p):\n",
    "#     print(111)\n",
    "    print(test.__name__ + \" param: \" + p)\n",
    "#     print(222)\n",
    "    return\n",
    "test(\"I'm a param\")"
   ]
  },
  {
   "cell_type": "code",
   "execution_count": 25,
   "metadata": {},
   "outputs": [
    {
     "name": "stdout",
     "output_type": "stream",
     "text": [
      "call test():\n",
      "args = I'm a param\n",
      "call test():\n",
      "args = I'm a param\n",
      "test param: I'm a param\n"
     ]
    }
   ],
   "source": [
    "# 装饰器，来装饰test\n",
    "wrapper = log(test)\n",
    "wrapper(\"I'm a param\")"
   ]
  },
  {
   "cell_type": "markdown",
   "metadata": {},
   "source": [
    "- 经典的cv算法，比如Canny edge detection\n",
    "- 知道那些常见的backbone（2d, 3d）\n",
    "- resnet的bottleneck的作用是什么\n",
    "    - 其中右图又称为”bottleneck design”，目的一目了然，就是为了降低参数的数目，第一个1x1的卷积把256维channel降到64维，然后在最后通过1x1卷积恢复，整体上用的参数数目：1x1x256x64 + 3x3x64x64 + 1x1x64x256 = 69632，而不使用bottleneck的话就是两个3x3x256的卷积，参数数目: 3x3x256x256x2 = 1179648，差了16.94倍。 \n",
    "    \n",
    "- python多线程和多进程的区别\n",
    "\n",
    "    一、进程与线程\n",
    "\n",
    "    进程是操作系统进行资源分配的最小单元，资源包括CPU、内存、磁盘等IO设备等等，\n",
    "    而线程是CPU调度的基本单位。举个简单的例子来帮助理解：我们电脑上同时运行的浏\n",
    "    览器和视频播放器是两个不同的进程，进程可能包含多个子任务，这些子任务就是线程\n",
    "    ，比如视频播放器在播放视频时要同时显示图像、播放声音、显示字幕，这就是三个线\n",
    "    程。\n",
    "\n",
    "    二、多线程\n",
    "\n",
    "    操作系统通过给不同的线程分配时间片（CPU运行时长）来调度线程，当CPU执行完一\n",
    "    个线程的时间片后就会快速切换到下一个线程，时间片很短而且切换切速度很快以至于\n",
    "    用户根本察觉不到。早期的计算机是单核单线程的，多个线程根据分配的时间片轮流被\n",
    "    CPU执行，如今绝大多数计算机的CPU都是多核的，多个线程在操作系统的调度下能够\n",
    "    被多个CPU并发执行，程序的执行速度和CPU的利用效率大大提升。绝大多数主流的编\n",
    "    程语言都能很好地支持多线程，然而python由于GIL锁无法实现真正的多线程。\n",
    "\n",
    "\n",
    "- 如果一个batch现存爆炸，如何处理。\n",
    "    - 多GPU\n",
    "\n",
    "- python的super作用是什么\n",
    "    - super() 就是找爹 ； super().__init__(...) 就是说：\"爹，先执行一下你的__init__方法，等你干完了我再来做我的事。\"； 用途就是，你继承一个父类了，原先父类的初始化方法里有很多东西，你又不打算自己重新写一遍，那就叫父类先执行原来的逻辑，再执行后边的。\n",
    "\n",
    "- copy和deepcopy\n",
    "\n",
    "deepcopy是recursive copy是真正的deepcopy"
   ]
  },
  {
   "cell_type": "code",
   "execution_count": 1,
   "metadata": {},
   "outputs": [
    {
     "name": "stdout",
     "output_type": "stream",
     "text": [
      "['I', 2, ['Love', 4]]\n",
      "[1, 2, ['Love', 4]]\n",
      "[1, 2, [3, 4]]\n",
      "[1, 2, ['Love', 4]]\n",
      "['I', 2, ['Love', 4]]\n"
     ]
    }
   ],
   "source": [
    "import copy\n",
    "a = [1, 2, [3, 4]]\n",
    "b = a.copy()\n",
    "c = copy.deepcopy(a)\n",
    "d = copy.copy(a)\n",
    "e = a\n",
    "\n",
    "\n",
    "a[0] = \"I\"\n",
    "a[2][0] = \"Love\"\n",
    "for k in [a, b ,c ,d, e]:\n",
    "    print(k)"
   ]
  },
  {
   "cell_type": "markdown",
   "metadata": {},
   "source": [
    "算法题：\n",
    "\n",
    "- valid parantese\n",
    "\n",
    "https://leetcode.com/problems/valid-parentheses/submissions/\n",
    "\n",
    "- how many islands\n",
    "\n",
    "https://leetcode.com/problems/number-of-islands/"
   ]
  },
  {
   "cell_type": "code",
   "execution_count": null,
   "metadata": {},
   "outputs": [],
   "source": []
  }
 ],
 "metadata": {
  "kernelspec": {
   "display_name": "Python 3",
   "language": "python",
   "name": "python3"
  },
  "language_info": {
   "codemirror_mode": {
    "name": "ipython",
    "version": 3
   },
   "file_extension": ".py",
   "mimetype": "text/x-python",
   "name": "python",
   "nbconvert_exporter": "python",
   "pygments_lexer": "ipython3",
   "version": "3.7.1"
  }
 },
 "nbformat": 4,
 "nbformat_minor": 2
}
