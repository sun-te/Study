{
 "cells": [
  {
   "cell_type": "code",
   "execution_count": 1,
   "metadata": {},
   "outputs": [],
   "source": [
    "import numpy as np\n",
    "from collections import Counter"
   ]
  },
  {
   "cell_type": "markdown",
   "metadata": {},
   "source": [
    "### 计算iou"
   ]
  },
  {
   "cell_type": "code",
   "execution_count": 14,
   "metadata": {},
   "outputs": [],
   "source": [
    "map1 = [0,5,10,-5]\n",
    "map2 = [5,10,25,-10]"
   ]
  },
  {
   "cell_type": "code",
   "execution_count": 15,
   "metadata": {},
   "outputs": [],
   "source": [
    "def area(box):\n",
    "    return (box[2] - box[0]) * (box[3]-box[1])\n",
    "def iou(map1, map2):\n",
    "    min_x1, min_x2 = max(map1[0], map2[0]), min(map1[2], map2[2])\n",
    "    min_y1, min_y2 = min(map1[1], map2[1]), max(map1[3], map2[3])\n",
    "    return area([min_x1, min_y1, min_x2, min_y2])/(area(map1) + area(map2) - area([min_x1, min_y1, min_x2, min_y2]))\n",
    "    "
   ]
  },
  {
   "cell_type": "code",
   "execution_count": 16,
   "metadata": {},
   "outputs": [
    {
     "data": {
      "text/plain": [
       "0.1111111111111111"
      ]
     },
     "execution_count": 16,
     "metadata": {},
     "output_type": "execute_result"
    }
   ],
   "source": [
    "iou(map1, map2)"
   ]
  },
  {
   "cell_type": "markdown",
   "metadata": {},
   "source": [
    "### 爬梯子\n",
    "从零开始一次可以走1步或者2步，问到达n一共有多少种走法"
   ]
  },
  {
   "cell_type": "code",
   "execution_count": 12,
   "metadata": {},
   "outputs": [],
   "source": [
    "n = 4"
   ]
  },
  {
   "cell_type": "code",
   "execution_count": 13,
   "metadata": {},
   "outputs": [],
   "source": [
    "ans_dict = {}\n",
    "def num_methods(n):\n",
    "    if n == 1:\n",
    "        return 1\n",
    "    if n == 2:\n",
    "        return 2\n",
    "    if n == 0:\n",
    "        return 0\n",
    "    \n",
    "    num_prev = ans_dict.get(n-1, -1)\n",
    "    if num_prev == -1:\n",
    "        num_prev = num_methods(n-1)\n",
    "        ans_dict[n-1] = num_prev\n",
    "    num_prev_prev = ans_dict.get(n-2, -1)\n",
    "    if num_prev_prev == -1:\n",
    "        num_prev_prev = num_methods(n-2)\n",
    "        ans_dict[n-2] = num_prev_prev\n",
    "    return num_prev + num_prev_prev"
   ]
  },
  {
   "cell_type": "code",
   "execution_count": 14,
   "metadata": {},
   "outputs": [
    {
     "data": {
      "text/plain": [
       "5"
      ]
     },
     "execution_count": 14,
     "metadata": {},
     "output_type": "execute_result"
    }
   ],
   "source": [
    "num_methods(n)"
   ]
  },
  {
   "cell_type": "markdown",
   "metadata": {},
   "source": [
    "### 验证是否为数独\n",
    "一个9*9的矩阵，是否满足：\n",
    "- 每个3*3 block没有重复\n",
    "- 每一行没有重复\n",
    "- 每一列没有重复"
   ]
  },
  {
   "cell_type": "code",
   "execution_count": null,
   "metadata": {},
   "outputs": [],
   "source": []
  }
 ],
 "metadata": {
  "kernelspec": {
   "display_name": "Python 3",
   "language": "python",
   "name": "python3"
  },
  "language_info": {
   "codemirror_mode": {
    "name": "ipython",
    "version": 3
   },
   "file_extension": ".py",
   "mimetype": "text/x-python",
   "name": "python",
   "nbconvert_exporter": "python",
   "pygments_lexer": "ipython3",
   "version": "3.7.1"
  }
 },
 "nbformat": 4,
 "nbformat_minor": 2
}
