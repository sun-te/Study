{
 "cells": [
  {
   "cell_type": "code",
   "execution_count": 42,
   "metadata": {},
   "outputs": [],
   "source": [
    "def findwc(street):\n",
    "    wc = []\n",
    "    for i, s in enumerate(street):\n",
    "        if s == 'O':\n",
    "            wc.append(i)\n",
    "    w = 0\n",
    "    num_wc = len(wc)\n",
    "    street_len = len(street)\n",
    "    ans = [0] * street_len\n",
    "    for i in range(street_len):\n",
    "        if i <= wc[w]:\n",
    "            ans[i] = wc[w]-i\n",
    "        else:\n",
    "            if w == len(wc)-1:\n",
    "                ans[i] = len(street)\n",
    "            else:\n",
    "                w += 1\n",
    "                ans[i] = wc[w]-i\n",
    "    \n",
    "    w = num_wc -1\n",
    "    for i in range(street_len-1, -1, -1):\n",
    "        if i >= wc[w]:\n",
    "            ans[i] = min(ans[i], i-wc[w])\n",
    "        else:\n",
    "            if w == 0:\n",
    "                continue\n",
    "            else:\n",
    "                w -= 1\n",
    "                ans[i] = min(ans[i], i-wc[w])   \n",
    "    print(ans)\n",
    "    "
   ]
  },
  {
   "cell_type": "code",
   "execution_count": null,
   "metadata": {},
   "outputs": [],
   "source": [
    "[i in range]"
   ]
  },
  {
   "cell_type": "code",
   "execution_count": 40,
   "metadata": {},
   "outputs": [
    {
     "name": "stdout",
     "output_type": "stream",
     "text": [
      "[0, 1, 1, 0, 0, 1, 0, 0, 1, 2, 1, 0]\n",
      "Wall time: 0 ns\n"
     ]
    }
   ],
   "source": [
    "%%time\n",
    "test = 'OXXOOXOOXXXO'\n",
    "findwc(test)"
   ]
  }
 ],
 "metadata": {
  "kernelspec": {
   "display_name": "Python 3",
   "language": "python",
   "name": "python3"
  },
  "language_info": {
   "codemirror_mode": {
    "name": "ipython",
    "version": 3
   },
   "file_extension": ".py",
   "mimetype": "text/x-python",
   "name": "python",
   "nbconvert_exporter": "python",
   "pygments_lexer": "ipython3",
   "version": "3.6.7"
  }
 },
 "nbformat": 4,
 "nbformat_minor": 2
}
