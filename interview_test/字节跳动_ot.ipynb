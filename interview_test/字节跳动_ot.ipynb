{
 "cells": [
  {
   "cell_type": "markdown",
   "metadata": {},
   "source": [
    "寻找厕所"
   ]
  },
  {
   "cell_type": "code",
   "execution_count": 42,
   "metadata": {},
   "outputs": [],
   "source": [
    "def findwc(street):\n",
    "    wc = []\n",
    "    for i, s in enumerate(street):\n",
    "        if s == 'O':\n",
    "            wc.append(i)\n",
    "    w = 0\n",
    "    num_wc = len(wc)\n",
    "    street_len = len(street)\n",
    "    ans = [0] * street_len\n",
    "    for i in range(street_len):\n",
    "        if i <= wc[w]:\n",
    "            ans[i] = wc[w]-i\n",
    "        else:\n",
    "            if w == len(wc)-1:\n",
    "                ans[i] = len(street)\n",
    "            else:\n",
    "                w += 1\n",
    "                ans[i] = wc[w]-i\n",
    "    \n",
    "    w = num_wc -1\n",
    "    for i in range(street_len-1, -1, -1):\n",
    "        if i >= wc[w]:\n",
    "            ans[i] = min(ans[i], i-wc[w])\n",
    "        else:\n",
    "            if w == 0:\n",
    "                continue\n",
    "            else:\n",
    "                w -= 1\n",
    "                ans[i] = min(ans[i], i-wc[w])   \n",
    "    print(ans)\n",
    "    "
   ]
  },
  {
   "cell_type": "code",
   "execution_count": null,
   "metadata": {},
   "outputs": [],
   "source": [
    "[i in range]"
   ]
  },
  {
   "cell_type": "code",
   "execution_count": 40,
   "metadata": {
    "scrolled": false
   },
   "outputs": [
    {
     "name": "stdout",
     "output_type": "stream",
     "text": [
      "[0, 1, 1, 0, 0, 1, 0, 0, 1, 2, 1, 0]\n",
      "Wall time: 0 ns\n"
     ]
    }
   ],
   "source": [
    "%%time\n",
    "test = 'OXXOOXOOXXXO'\n",
    "findwc(test)"
   ]
  },
  {
   "cell_type": "code",
   "execution_count": null,
   "metadata": {},
   "outputs": [],
   "source": []
  },
  {
   "cell_type": "markdown",
   "metadata": {},
   "source": [
    "## 暑期实习\n",
    "20200223\n",
    "\n",
    "第一轮：\n",
    "- Batch norm的具体细节？\n",
    "\n",
    "\n",
    "有1，2，5，10圆，想要付N圆，有几种算法"
   ]
  },
  {
   "cell_type": "code",
   "execution_count": 6,
   "metadata": {},
   "outputs": [],
   "source": [
    "def methods(N, coins):\n",
    "    if len(coins) == 0: return 0\n",
    "    if N == 0 : return 1\n",
    "    if N < 0 : return 0\n",
    "    # 如果这次用了这种硬币，那么之后还可以继续用\n",
    "    # 如果这次一没有用这枚硬币，那么之后就都不能用了（假定一个顺序性使用）\n",
    "    ans = methods(N-coins[-1], coins) + methods(N, coins[:-1])"
   ]
  },
  {
   "cell_type": "markdown",
   "metadata": {},
   "source": [
    "错误案例："
   ]
  },
  {
   "cell_type": "code",
   "execution_count": 8,
   "metadata": {},
   "outputs": [],
   "source": [
    "def methods(N, coins):\n",
    "    if len(coins) == 0: return 0\n",
    "    if N == 0 : return 1\n",
    "    if N < 0 : return 0\n",
    "    ans = 0\n",
    "    # 这种方法的错误性在于多考虑了很多情况\n",
    "    # 比如 1， 2， 1的付钱方式在这里会和 2，1，1不同，但是事实上我们要求认为是相同的\n",
    "    # 因此使用上面的方法\n",
    "    for c in coins:\n",
    "        ans += methods(N-c, coins)\n",
    "    return ans\n"
   ]
  },
  {
   "cell_type": "code",
   "execution_count": null,
   "metadata": {},
   "outputs": [],
   "source": []
  }
 ],
 "metadata": {
  "kernelspec": {
   "display_name": "Python 3",
   "language": "python",
   "name": "python3"
  },
  "language_info": {
   "codemirror_mode": {
    "name": "ipython",
    "version": 3
   },
   "file_extension": ".py",
   "mimetype": "text/x-python",
   "name": "python",
   "nbconvert_exporter": "python",
   "pygments_lexer": "ipython3",
   "version": "3.7.1"
  }
 },
 "nbformat": 4,
 "nbformat_minor": 2
}
