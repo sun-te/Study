{
 "cells": [
  {
   "cell_type": "markdown",
   "metadata": {},
   "source": [
    "20200226\n",
    "中信证券由于是full time的岗位，所以造成误会不能够入职\n",
    "\n",
    "- 问题：\n",
    "\n",
    "    motivation：为什么之前是学术经历现在希望寻求量化的公司\n",
    "    你知道**买方**和**卖方**的区别么，买方是希望寻求最好的价格买入，卖方希望寻求更好的策略定价"
   ]
  }
 ],
 "metadata": {
  "kernelspec": {
   "display_name": "Python 3",
   "language": "python",
   "name": "python3"
  },
  "language_info": {
   "codemirror_mode": {
    "name": "ipython",
    "version": 3
   },
   "file_extension": ".py",
   "mimetype": "text/x-python",
   "name": "python",
   "nbconvert_exporter": "python",
   "pygments_lexer": "ipython3",
   "version": "3.7.1"
  }
 },
 "nbformat": 4,
 "nbformat_minor": 2
}
