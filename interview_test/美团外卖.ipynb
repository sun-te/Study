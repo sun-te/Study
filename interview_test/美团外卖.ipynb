{
 "cells": [
  {
   "cell_type": "markdown",
   "metadata": {},
   "source": [
    "题目描述：\n",
    "\n",
    "小团在一次星际旅行中，耗尽了飞船的能量，迷失在了空间魔方中，空间魔方中有N*N*N个能量粒子，美团云AI迅速帮小团分析出了空间魔方的能量分布图。\n",
    "\n",
    "已知小团的飞船被困在能量值的最高的点，能量值最高点有且只有一个，飞船每到达一个能量粒子就会吸收对应粒子的能量，该粒子就会吸收对应粒子的能量，该粒子会坍塌成小黑洞，飞船不可到达。小团驾驶的飞船只能从高能量粒子驶向低能粒子，且每次只能从6个方向中选择一个前进（±x，±y，±z）。\n",
    "\n",
    "请帮助小团算出小团吸收最高的能量值。\n",
    "\n",
    "输入：\n",
    "\n",
    "N（0≤N≤8）\n",
    "\n",
    "N*N*N行空间能量数据，格式为：X Y Z P，XYZ表示点坐标，P表示空间能量分布（0≤P）\n",
    "\n",
    "输出：\n",
    "\n",
    "可吸收到的最高的能量值\n",
    "\n",
    "样例输入：\n",
    "```python\n",
    "2\n",
    "0 0 0 7\n",
    "0 0 1 2\n",
    "0 1 0 4\n",
    "0 1 1 3\n",
    "1 0 0 6\n",
    "1 0 1 1\n",
    "1 1 0 5\n",
    "1 1 1 0\n",
    "```\n",
    "输出\n",
    "```python\n",
    "28\n",
    "```"
   ]
  },
  {
   "cell_type": "code",
   "execution_count": 3,
   "metadata": {},
   "outputs": [],
   "source": [
    "import numpy as np"
   ]
  },
  {
   "cell_type": "code",
   "execution_count": 15,
   "metadata": {},
   "outputs": [
    {
     "name": "stdout",
     "output_type": "stream",
     "text": [
      "(2, 2, 2)\n"
     ]
    },
    {
     "data": {
      "text/plain": [
       "((0, 0, 0), [[[7, 2], [4, 3]], [[6, 1], [5, 0]]])"
      ]
     },
     "execution_count": 15,
     "metadata": {},
     "output_type": "execute_result"
    }
   ],
   "source": [
    "n = 2\n",
    "tmp = \"0 0 0 7 0 0 1 2 0 1 0 4 0 1 1 3 1 0 0 6 1 0 1 1 1 1 0 5 1 1 1 0\"\n",
    "all_ele = tmp.split(\" \")\n",
    "universe = []\n",
    "for i in range(n):\n",
    "    tmp1 = []\n",
    "    for j in range(n):\n",
    "        tmp2 = [0]*n\n",
    "        tmp1.append(tmp2)\n",
    "    universe.append(tmp1)\n",
    "print(np.array(universe).shape)\n",
    "tmp = tmp.split(\" \")\n",
    "start = (0, 0, 0)\n",
    "max_p = -1\n",
    "for i in range(len(tmp)//4):\n",
    "    x, y ,z , p = [int(tmp[i*4+k]) for k in range(4)]\n",
    "    universe[x][y][z] = p\n",
    "    if p > universe[start[0]][start[1]][start[2]]:\n",
    "        start = (x,y,z)\n",
    "        max_p = p\n",
    "start, universe"
   ]
  },
  {
   "cell_type": "code",
   "execution_count": 21,
   "metadata": {},
   "outputs": [
    {
     "data": {
      "text/plain": [
       "28"
      ]
     },
     "execution_count": 21,
     "metadata": {},
     "output_type": "execute_result"
    }
   ],
   "source": [
    "def neighbors(x, y, z):\n",
    "    ans = []\n",
    "    p = universe[x][y][z]\n",
    "    possible = [\n",
    "        (x-1, y , z),\n",
    "        (x+1, y , z),\n",
    "        (x, y-1, z),\n",
    "        (x, y+1, z),\n",
    "        (x, y ,z+1),\n",
    "        (x,y, z-1)\n",
    "    ]\n",
    "    for pos in possible:\n",
    "        p1, p2, p3 = pos\n",
    "        if p1>=0 and p1<n and p2>=0 and p2<n and p3>=0 and p3<n and universe[p1][p2][p3] < p:\n",
    "            ans.append((p1,p2,p3))\n",
    "    return ans\n",
    "\n",
    "def dfs(x,y,z):\n",
    "    near_points = neighbors(x,y,z)\n",
    "    if len(near_points) == 0:\n",
    "        return universe[x][y][z]\n",
    "    tmp_p = universe[x][y][z]\n",
    "    universe[x][y][z] = max_p + 1\n",
    "    local_max = 0\n",
    "    for (p1, p2, p3) in near_points:\n",
    "        local_max = max(local_max, dfs(p1, p2, p3))\n",
    "    \n",
    "    universe[x][y][z] = tmp_p\n",
    "    return tmp_p + local_max\n",
    "\n",
    "dfs(start[0], start[1], start[2])\n",
    "        "
   ]
  },
  {
   "cell_type": "code",
   "execution_count": null,
   "metadata": {},
   "outputs": [],
   "source": []
  }
 ],
 "metadata": {
  "kernelspec": {
   "display_name": "Python 3",
   "language": "python",
   "name": "python3"
  },
  "language_info": {
   "codemirror_mode": {
    "name": "ipython",
    "version": 3
   },
   "file_extension": ".py",
   "mimetype": "text/x-python",
   "name": "python",
   "nbconvert_exporter": "python",
   "pygments_lexer": "ipython3",
   "version": "3.7.1"
  }
 },
 "nbformat": 4,
 "nbformat_minor": 2
}
