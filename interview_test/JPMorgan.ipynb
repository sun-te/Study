{
 "cells": [
  {
   "cell_type": "code",
   "execution_count": 1,
   "metadata": {},
   "outputs": [],
   "source": [
    "import numpy as np\n",
    "import scipy"
   ]
  },
  {
   "cell_type": "markdown",
   "metadata": {},
   "source": [
    "### 他给列出的所有项目， 如果你在列表上列了，那就代表面试可以问，所以一定要慎重，选择你自己会的"
   ]
  },
  {
   "cell_type": "markdown",
   "metadata": {},
   "source": [
    "### heat equation\n",
    "- 写出heat equation\n",
    "- 请写出具体求解过程\n",
    "    - 建立grid\n",
    "    - finite difference建立\n",
    "    - 收敛性\n",
    "    - implicit and explicit 优缺点\n",
    "    - 线性系统求解，矩阵求逆多种算法"
   ]
  },
  {
   "cell_type": "markdown",
   "metadata": {},
   "source": [
    "### 布朗运动\n",
    "- 布朗运动定义\n",
    "- 布朗运动是否为martingale，二阶呢，三阶呢\n",
    "- 伊藤对于布朗运动的运用"
   ]
  },
  {
   "cell_type": "markdown",
   "metadata": {},
   "source": [
    "### Deep\n",
    "- Batchnormalization, how to do it, backprop\n",
    "- dropout\n",
    "- optimizer: developement, idea behind\n",
    "\n",
    "### decision tree, how to build, how to minimize\n",
    "### a sorted array, random change elements, and sort it again.\n",
    "- use merge array"
   ]
  },
  {
   "cell_type": "code",
   "execution_count": null,
   "metadata": {},
   "outputs": [],
   "source": []
  }
 ],
 "metadata": {
  "kernelspec": {
   "display_name": "Python 3",
   "language": "python",
   "name": "python3"
  },
  "language_info": {
   "codemirror_mode": {
    "name": "ipython",
    "version": 3
   },
   "file_extension": ".py",
   "mimetype": "text/x-python",
   "name": "python",
   "nbconvert_exporter": "python",
   "pygments_lexer": "ipython3",
   "version": "3.7.1"
  }
 },
 "nbformat": 4,
 "nbformat_minor": 2
}
