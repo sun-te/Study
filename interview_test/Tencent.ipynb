{
 "cells": [
  {
   "cell_type": "markdown",
   "metadata": {},
   "source": [
    "原题：\n",
    "https://leetcode.com/problems/house-robber-ii/\n",
    "\n",
    "采自木木腾讯的一面题目"
   ]
  },
  {
   "cell_type": "code",
   "execution_count": 12,
   "metadata": {},
   "outputs": [],
   "source": [
    "def maxSum(house):\n",
    "    # 这个样子不行，因为会导致算过的重复算，需要有一个dict\n",
    "    hist_dict = {}\n",
    "    \n",
    "    def simpleSum(houses, which):\n",
    "        if which > \n",
    "        if len(houses) == 0:\n",
    "            return 0\n",
    "        if len(houses) == 1:\n",
    "            return houses[0]\n",
    "        if which+1 not in hist_dict:\n",
    "            hist_dict[which+1] = simpleSum(houses[1:], which+1)\n",
    "        if which+2 not in hist_dict:\n",
    "            hist_dict[which+2] = simpleSum(houses[2:], which+2)+ houses[0]\n",
    "        ans = max(hist_dict[which+1], hist_dict[which+2])\n",
    "        return ans\n",
    "    \n",
    "    ans = max(simpleSum(house[:-1], 0), simpleSum(house[1:], 1))\n",
    "    return ans\n",
    "    "
   ]
  },
  {
   "cell_type": "code",
   "execution_count": 13,
   "metadata": {},
   "outputs": [
    {
     "data": {
      "text/plain": [
       "3"
      ]
     },
     "execution_count": 13,
     "metadata": {},
     "output_type": "execute_result"
    }
   ],
   "source": [
    "maxSum([1,2,3,1])"
   ]
  },
  {
   "cell_type": "code",
   "execution_count": null,
   "metadata": {},
   "outputs": [],
   "source": []
  }
 ],
 "metadata": {
  "kernelspec": {
   "display_name": "Python 3",
   "language": "python",
   "name": "python3"
  },
  "language_info": {
   "codemirror_mode": {
    "name": "ipython",
    "version": 3
   },
   "file_extension": ".py",
   "mimetype": "text/x-python",
   "name": "python",
   "nbconvert_exporter": "python",
   "pygments_lexer": "ipython3",
   "version": "3.7.1"
  }
 },
 "nbformat": 4,
 "nbformat_minor": 2
}
