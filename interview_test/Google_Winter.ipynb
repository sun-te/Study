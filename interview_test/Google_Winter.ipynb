{
 "cells": [
  {
   "cell_type": "markdown",
   "metadata": {},
   "source": [
    "## Google winter camp chanllenge test\n",
    "\n",
    "find the number of leaf pairs in a binary tree, that between, the distance is less than k \n",
    "\n",
    "寻找在一个二叉树中，有多少（彼此之间距离小于K的）对叶子\n",
    "\n",
    "info:如果某个节点的数值为-1，则代表为None"
   ]
  },
  {
   "cell_type": "code",
   "execution_count": 48,
   "metadata": {},
   "outputs": [],
   "source": [
    "layer1 = [1]\n",
    "layer2 = [2, 3]\n",
    "layer3 = [4, 5, 6, 7]\n",
    "layer4 = [8, -1, 9, 10, -1, -1, 11, 12]\n",
    "tree = layer1 + layer2 + layer3 + layer4"
   ]
  },
  {
   "cell_type": "markdown",
   "metadata": {},
   "source": [
    "如果K为4那么 (8, 9) 距离为4, (8, 10)距离为4, （9，10）距离为2，(6, 11)距离为3 ,(6,12)距离为3, (11,12)距离为1. 均为可行解，因此输出值应为6，共有6对叶子"
   ]
  },
  {
   "cell_type": "code",
   "execution_count": 55,
   "metadata": {},
   "outputs": [],
   "source": [
    "def is_leaf(i, data):\n",
    "    n = len(data)\n",
    "    last_layer_len = (n+1)//2\n",
    "    tree_index = i + 1 \n",
    "    if n-tree_index < last_layer_len:\n",
    "        if data[i]!= -1:\n",
    "            if data[i] == 7:\n",
    "                print(\"eee\")\n",
    "            return True\n",
    "        else:\n",
    "            return False\n",
    "    elif data[tree_index*2-1]==-1 and data[2*tree_index]==-1:\n",
    "        return True\n",
    "    else:\n",
    "        return False\n"
   ]
  },
  {
   "cell_type": "code",
   "execution_count": 57,
   "metadata": {},
   "outputs": [
    {
     "name": "stdout",
     "output_type": "stream",
     "text": [
      "1 False\n",
      "2 False\n",
      "3 False\n",
      "4 False\n",
      "5 False\n",
      "6 True\n",
      "7 False\n",
      "8 True\n",
      "-1 False\n",
      "9 True\n",
      "10 True\n",
      "-1 False\n",
      "-1 False\n",
      "11 True\n",
      "12 True\n",
      "6\n"
     ]
    }
   ],
   "source": [
    "tmp = [is_leaf(i, tree) for i in range(15)]\n",
    "for i in range(15):\n",
    "    print(tree[i], tmp[i])\n",
    "print(sum(tmp))"
   ]
  },
  {
   "cell_type": "code",
   "execution_count": null,
   "metadata": {},
   "outputs": [],
   "source": []
  }
 ],
 "metadata": {
  "kernelspec": {
   "display_name": "Python 3",
   "language": "python",
   "name": "python3"
  },
  "language_info": {
   "codemirror_mode": {
    "name": "ipython",
    "version": 3
   },
   "file_extension": ".py",
   "mimetype": "text/x-python",
   "name": "python",
   "nbconvert_exporter": "python",
   "pygments_lexer": "ipython3",
   "version": "3.7.1"
  }
 },
 "nbformat": 4,
 "nbformat_minor": 2
}
