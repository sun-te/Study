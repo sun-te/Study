{
 "cells": [
  {
   "cell_type": "markdown",
   "metadata": {},
   "source": [
    "寻找厕所"
   ]
  },
  {
   "cell_type": "code",
   "execution_count": 42,
   "metadata": {},
   "outputs": [],
   "source": [
    "def findwc(street):\n",
    "    wc = []\n",
    "    for i, s in enumerate(street):\n",
    "        if s == 'O':\n",
    "            wc.append(i)\n",
    "    w = 0\n",
    "    num_wc = len(wc)\n",
    "    street_len = len(street)\n",
    "    ans = [0] * street_len\n",
    "    for i in range(street_len):\n",
    "        if i <= wc[w]:\n",
    "            ans[i] = wc[w]-i\n",
    "        else:\n",
    "            if w == len(wc)-1:\n",
    "                ans[i] = len(street)\n",
    "            else:\n",
    "                w += 1\n",
    "                ans[i] = wc[w]-i\n",
    "    \n",
    "    w = num_wc -1\n",
    "    for i in range(street_len-1, -1, -1):\n",
    "        if i >= wc[w]:\n",
    "            ans[i] = min(ans[i], i-wc[w])\n",
    "        else:\n",
    "            if w == 0:\n",
    "                continue\n",
    "            else:\n",
    "                w -= 1\n",
    "                ans[i] = min(ans[i], i-wc[w])   \n",
    "    print(ans)\n",
    "    "
   ]
  },
  {
   "cell_type": "code",
   "execution_count": null,
   "metadata": {},
   "outputs": [],
   "source": [
    "[i in range]"
   ]
  },
  {
   "cell_type": "code",
   "execution_count": 40,
   "metadata": {
    "scrolled": false
   },
   "outputs": [
    {
     "name": "stdout",
     "output_type": "stream",
     "text": [
      "[0, 1, 1, 0, 0, 1, 0, 0, 1, 2, 1, 0]\n",
      "Wall time: 0 ns\n"
     ]
    }
   ],
   "source": [
    "%%time\n",
    "test = 'OXXOOXOOXXXO'\n",
    "findwc(test)"
   ]
  },
  {
   "cell_type": "markdown",
   "metadata": {},
   "source": [
    "## 暑期实习\n",
    "20200223\n",
    "\n",
    "第一轮：\n",
    "- Batch norm的具体细节？\n",
    "\n",
    "\n",
    "有1，2，5，10圆，想要付N圆，有几种算法"
   ]
  },
  {
   "cell_type": "code",
   "execution_count": 6,
   "metadata": {},
   "outputs": [],
   "source": [
    "def methods(N, coins):\n",
    "    if len(coins) == 0: return 0\n",
    "    if N == 0 : return 1\n",
    "    if N < 0 : return 0\n",
    "    # 如果这次用了这种硬币，那么之后还可以继续用\n",
    "    # 如果这次一没有用这枚硬币，那么之后就都不能用了（假定一个顺序性使用）\n",
    "    ans = methods(N-coins[-1], coins) + methods(N, coins[:-1])"
   ]
  },
  {
   "cell_type": "markdown",
   "metadata": {},
   "source": [
    "错误案例："
   ]
  },
  {
   "cell_type": "code",
   "execution_count": 8,
   "metadata": {},
   "outputs": [],
   "source": [
    "def methods(N, coins):\n",
    "    if len(coins) == 0: return 0\n",
    "    if N == 0 : return 1\n",
    "    if N < 0 : return 0\n",
    "    ans = 0\n",
    "    # 这种方法的错误性在于多考虑了很多情况\n",
    "    # 比如 1， 2， 1的付钱方式在这里会和 2，1，1不同，但是事实上我们要求认为是相同的\n",
    "    # 因此使用上面的方法\n",
    "    for c in coins:\n",
    "        ans += methods(N-c, coins)\n",
    "    return ans\n"
   ]
  },
  {
   "cell_type": "markdown",
   "metadata": {},
   "source": [
    "### 二面 20200227\n",
    "\n",
    "给定labels和logits，请写出cross entropy，对于softmax出现exp的爆炸该如何处理？（所有的logits全部减去最大值，最小的数值很小没关系，因为本身概率就很小，对于整体的影响就不大，精度不准确无所谓）\n",
    "\n",
    "### 三面：\n",
    "\n",
    "----\n",
    "\n",
    "如果给定$X,Y\\sim U([0,1])$, i.i.d,那么请计算\n",
    "$$\\mathbb{E}(\\max(X,Y)) (=\\frac{2}{3})$$\n",
    "提示：通过定义写出它的积分表达式，并通过分类讨论积分算出来\n",
    "\n",
    "----\n",
    "给出[X,Y]数据点，40个对应数据点，请找出一条直线能够拟合他们：\n",
    "\n",
    "- 方案一： 直接求解数值解\n",
    "- 方案二： 通过gradient descent，由于convex，所以gradient descent一定不会diverge\n",
    "\n",
    "---\n",
    "我还可以怎样准备，怎样变得更好？\n",
    "\n",
    "- 二面面试官：思维发散，多多寻求一些更加骚的操作\n",
    "- 三面面试官：多加思考你的职业规划，究竟是要做一辈子技术还是要从事管理层，还是做技术领导，多多接触工程"
   ]
  },
  {
   "cell_type": "code",
   "execution_count": null,
   "metadata": {},
   "outputs": [],
   "source": []
  }
 ],
 "metadata": {
  "kernelspec": {
   "display_name": "Python 3",
   "language": "python",
   "name": "python3"
  },
  "language_info": {
   "codemirror_mode": {
    "name": "ipython",
    "version": 3
   },
   "file_extension": ".py",
   "mimetype": "text/x-python",
   "name": "python",
   "nbconvert_exporter": "python",
   "pygments_lexer": "ipython3",
   "version": "3.7.1"
  }
 },
 "nbformat": 4,
 "nbformat_minor": 2
}
